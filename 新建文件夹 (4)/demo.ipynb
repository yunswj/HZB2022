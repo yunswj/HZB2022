{
 "cells": [
  {
   "cell_type": "code",
   "execution_count": 56,
   "metadata": {},
   "outputs": [
    {
     "name": "stdout",
     "output_type": "stream",
     "text": [
      "      OrderNo ItemNo  Quantity\n",
      "0       D0001  P0128         4\n",
      "1       D0001  P0129         4\n",
      "2       D0001  P0313         6\n",
      "3       D0001  P0315         6\n",
      "4       D0001  P0398        12\n",
      "...       ...    ...       ...\n",
      "20335   D0923  P1405         9\n",
      "20336   D0923  P1409         8\n",
      "20337   D0923  P1607         9\n",
      "20338   D0923  P1670        12\n",
      "20339   D0923  P1859         5\n",
      "\n",
      "[20340 rows x 3 columns]\n"
     ]
    }
   ],
   "source": [
    "import pandas as pd\n",
    "import numpy as np\n",
    "\n",
    "data = pd.read_csv('./1.csv')\n",
    "print(data)\n"
   ]
  },
  {
   "cell_type": "code",
   "execution_count": 57,
   "metadata": {},
   "outputs": [
    {
     "data": {
      "text/plain": [
       "0        P0128\n",
       "1        P0129\n",
       "2        P0313\n",
       "3        P0315\n",
       "4        P0398\n",
       "         ...  \n",
       "20335    P1405\n",
       "20336    P1409\n",
       "20337    P1607\n",
       "20338    P1670\n",
       "20339    P1859\n",
       "Name: ItemNo, Length: 20340, dtype: object"
      ]
     },
     "execution_count": 57,
     "metadata": {},
     "output_type": "execute_result"
    }
   ],
   "source": [
    "data.ItemNo"
   ]
  },
  {
   "cell_type": "code",
   "execution_count": 52,
   "metadata": {},
   "outputs": [
    {
     "data": {
      "text/plain": [
       "numpy.ndarray"
      ]
     },
     "execution_count": 52,
     "metadata": {},
     "output_type": "execute_result"
    }
   ],
   "source": [
    "file1=np.array(data)\n",
    "type(file1)\n"
   ]
  },
  {
   "cell_type": "code",
   "execution_count": 29,
   "metadata": {},
   "outputs": [
    {
     "name": "stdout",
     "output_type": "stream",
     "text": [
      "[0]\n"
     ]
    }
   ],
   "source": [
    "file2=file1[1].argsort()\n",
    "print(file2)"
   ]
  },
  {
   "cell_type": "code",
   "execution_count": 55,
   "metadata": {},
   "outputs": [
    {
     "name": "stdout",
     "output_type": "stream",
     "text": [
      "['D0190' 'P0009' 4]\n",
      "['D0190' 'P0011' 20]\n",
      "['D0190' 'P0012' 10]\n",
      "['D0190' 'P0048' 4]\n",
      "['D0190' 'P0073' 4]\n",
      "['D0190' 'P0074' 4]\n",
      "['D0190' 'P0075' 4]\n",
      "['D0190' 'P0076' 4]\n",
      "['D0190' 'P0078' 4]\n",
      "['D0190' 'P0079' 6]\n",
      "['D0190' 'P0080' 6]\n",
      "['D0190' 'P0081' 6]\n",
      "['D0190' 'P0082' 6]\n",
      "['D0190' 'P0083' 6]\n",
      "['D0190' 'P0217' 6]\n",
      "['D0190' 'P0289' 25]\n",
      "['D0190' 'P0290' 25]\n",
      "['D0190' 'P0333' 12]\n",
      "['D0190' 'P0368' 6]\n",
      "['D0190' 'P0452' 24]\n",
      "['D0190' 'P0454' 24]\n",
      "['D0190' 'P0470' 25]\n",
      "['D0190' 'P0483' 12]\n",
      "['D0190' 'P0484' 12]\n",
      "['D0190' 'P0557' 12]\n",
      "['D0190' 'P0634' 24]\n",
      "['D0190' 'P0713' 4]\n",
      "['D0190' 'P0733' 6]\n",
      "['D0190' 'P0734' 6]\n",
      "['D0190' 'P0853' 2]\n",
      "['D0190' 'P0854' 2]\n",
      "['D0190' 'P0855' 2]\n",
      "['D0190' 'P0856' 2]\n",
      "['D0190' 'P0982' 2]\n",
      "['D0190' 'P0997' 24]\n",
      "['D0190' 'P1000' 12]\n",
      "['D0190' 'P1097' 24]\n",
      "['D0190' 'P1130' 3]\n",
      "['D0190' 'P1131' 3]\n",
      "['D0190' 'P1143' 18]\n",
      "['D0190' 'P1163' 2]\n",
      "['D0190' 'P1199' 2]\n",
      "['D0190' 'P1200' 24]\n",
      "['D0190' 'P1306' 6]\n",
      "['D0190' 'P1339' 12]\n",
      "['D0190' 'P1357' 6]\n",
      "['D0190' 'P1363' 24]\n",
      "['D0190' 'P1401' 12]\n",
      "['D0190' 'P1402' 12]\n",
      "['D0190' 'P1403' 12]\n",
      "['D0190' 'P1404' 12]\n",
      "['D0190' 'P1409' 12]\n",
      "['D0190' 'P1413' 40]\n",
      "['D0190' 'P1414' 40]\n",
      "['D0190' 'P1453' 12]\n",
      "['D0190' 'P1454' 24]\n",
      "['D0190' 'P1455' 12]\n",
      "['D0190' 'P1459' 48]\n",
      "['D0190' 'P1460' 48]\n",
      "['D0190' 'P1516' 25]\n",
      "['D0190' 'P1655' 2]\n",
      "['D0190' 'P1681' 4]\n",
      "['D0190' 'P1694' 4]\n",
      "['D0190' 'P1697' 4]\n",
      "['D0190' 'P1698' 10]\n",
      "['D0190' 'P1720' 2]\n",
      "['D0190' 'P1725' 3]\n",
      "['D0190' 'P1771' 24]\n",
      "['D0190' 'P1802' 3]\n",
      "['D0190' 'P1858' 9]\n",
      "['D0190' 'P1879' 4]\n",
      "['D0190' 'P1880' 4]\n",
      "['D0190' 'P1881' 4]\n",
      "['D0190' 'P1882' 4]\n",
      "['D0190' 'P1883' 8]\n",
      "['D0190' 'P1884' 2]\n",
      "['D0190' 'P1886' 2]\n",
      "['D0190' 'P1887' 4]\n",
      "['D0190' 'P1888' 2]\n",
      "['D0190' 'P1894' 6]\n",
      "['D0190' 'P1895' 6]\n",
      "['D0190' 'P1896' 6]\n",
      "['D0190' 'P1897' 6]\n",
      "['D0190' 'P1898' 6]\n",
      "['D0190' 'P1899' 6]\n",
      "['D0190' 'P1900' 6]\n",
      "['D0190' 'P1902' 6]\n",
      "['D0190' 'P1904' 12]\n",
      "['D0190' 'P1905' 6]\n",
      "['D0190' 'P1911' 3]\n",
      "['D0190' 'P1912' 6]\n",
      "['D0190' 'P1913' 6]\n",
      "['D0190' 'P1914' 12]\n",
      "['D0190' 'P1915' 6]\n",
      "['D0190' 'P1916' 6]\n",
      "['D0190' 'P1917' 6]\n",
      "['D0190' 'P1918' 6]\n",
      "['D0190' 'P1919' 6]\n",
      "['D0190' 'P1920' 6]\n",
      "['D0190' 'P1921' 6]\n",
      "['D0190' 'P1922' 6]\n",
      "['D0190' 'P1923' 6]\n",
      "['D0190' 'P1924' 6]\n",
      "['D0190' 'P1925' 3]\n",
      "['D0190' 'P1926' 6]\n",
      "['D0190' 'P1927' 6]\n",
      "['D0190' 'P1928' 6]\n",
      "['D0190' 'P1929' 6]\n",
      "['D0190' 'P1930' 6]\n",
      "['D0190' 'P1931' 6]\n",
      "['D0190' 'P1932' 6]\n",
      "['D0190' 'P1933' 6]\n",
      "['D0190' 'P1934' 4]\n",
      "['D0190' 'P1935' 4]\n",
      "['D0190' 'P1936' 4]\n",
      "['D0190' 'P1937' 6]\n",
      "['D0190' 'P1938' 6]\n",
      "['D0190' 'P1939' 3]\n",
      "[4, 20, 10, 4, 4, 4, 4, 4, 4, 6, 6, 6, 6, 6, 6, 25, 25, 12, 6, 24, 24, 25, 12, 12, 12, 24, 4, 6, 6, 2, 2, 2, 2, 2, 24, 12, 24, 3, 3, 18, 2, 2, 24, 6, 12, 6, 24, 12, 12, 12, 12, 12, 40, 40, 12, 24, 12, 48, 48, 25, 2, 4, 4, 4, 10, 2, 3, 24, 3, 9, 4, 4, 4, 4, 8, 2, 2, 4, 2, 6, 6, 6, 6, 6, 6, 6, 6, 12, 6, 3, 6, 6, 12, 6, 6, 6, 6, 6, 6, 6, 6, 6, 6, 3, 6, 6, 6, 6, 6, 6, 6, 6, 4, 4, 4, 6, 6, 3]\n",
      "1120\n"
     ]
    }
   ],
   "source": [
    "data = []\n",
    "\n",
    "for item in file1:\n",
    "    sh = item[0]\n",
    "    if \"D0190\" == sh:\n",
    "        data.append(item[2])\n",
    "        print(item)\n",
    "\n",
    "print(data)\n",
    "print(sum(data))\n"
   ]
  },
  {
   "cell_type": "code",
   "execution_count": 54,
   "metadata": {},
   "outputs": [
    {
     "name": "stdout",
     "output_type": "stream",
     "text": [
      "<class 'pandas.core.frame.DataFrame'>\n",
      "RangeIndex: 20340 entries, 0 to 20339\n",
      "Data columns (total 3 columns):\n",
      " #   Column  Non-Null Count  Dtype \n",
      "---  ------  --------------  ----- \n",
      " 0   订单号     20340 non-null  object\n",
      " 1   货物种类    20340 non-null  object\n",
      " 2   数量      20340 non-null  int64 \n",
      "dtypes: int64(1), object(2)\n",
      "memory usage: 476.8+ KB\n",
      "None\n"
     ]
    }
   ],
   "source": [
    "dd_data = pd.read_csv('./1.csv',header=0,names=[\"订单号\",\"货物种类\",\"数量\"])\n",
    "print(dd_data.info())\n"
   ]
  },
  {
   "cell_type": "code",
   "execution_count": 61,
   "metadata": {},
   "outputs": [
    {
     "data": {
      "text/plain": [
       "[<matplotlib.lines.Line2D at 0x18c289958d0>]"
      ]
     },
     "execution_count": 61,
     "metadata": {},
     "output_type": "execute_result"
    },
    {
     "data": {
      "image/png": "[encoded data removed]",
      "text/plain": [
       "<Figure size 432x288 with 1 Axes>"
      ]
     },
     "metadata": {
      "needs_background": "light"
     },
     "output_type": "display_data"
    }
   ],
   "source": [
    "import matplotlib.pyplot as plt\n",
    "\n",
    "plt.plot(data.ItemNo[:20], data.Quantity[:20])\n"
   ]
  },
  {
   "cell_type": "code",
   "execution_count": 63,
   "metadata": {},
   "outputs": [],
   "source": [
    "ddsl=pd.read_csv('./2.csv')"
   ]
  },
  {
   "cell_type": "code",
   "execution_count": 68,
   "metadata": {},
   "outputs": [
    {
     "ename": "KeyError",
     "evalue": "0      19\n1       1\n2       1\n3      11\n4       1\n       ..\n918    22\n919    41\n920    23\n921    18\n922    20\nName: num, Length: 923, dtype: int64",
     "output_type": "error",
     "traceback": [
      "\u001b[1;31m---------------------------------------------------------------------------\u001b[0m",
      "\u001b[1;31mKeyError\u001b[0m                                  Traceback (most recent call last)",
      "\u001b[1;32m~\\AppData\\Local\\Temp\\ipykernel_33088\\3206387101.py\u001b[0m in \u001b[0;36m<module>\u001b[1;34m\u001b[0m\n\u001b[1;32m----> 1\u001b[1;33m \u001b[0mddsl\u001b[0m\u001b[1;33m.\u001b[0m\u001b[0msort_values\u001b[0m\u001b[1;33m(\u001b[0m\u001b[0mddsl\u001b[0m\u001b[1;33m.\u001b[0m\u001b[0mnum\u001b[0m\u001b[1;33m)\u001b[0m\u001b[1;33m\u001b[0m\u001b[1;33m\u001b[0m\u001b[0m\n\u001b[0m",
      "\u001b[1;32m~\\AppData\\Local\\Programs\\Python\\Python37\\lib\\site-packages\\pandas\\util\\_decorators.py\u001b[0m in \u001b[0;36mwrapper\u001b[1;34m(*args, **kwargs)\u001b[0m\n\u001b[0;32m    309\u001b[0m                     \u001b[0mstacklevel\u001b[0m\u001b[1;33m=\u001b[0m\u001b[0mstacklevel\u001b[0m\u001b[1;33m,\u001b[0m\u001b[1;33m\u001b[0m\u001b[1;33m\u001b[0m\u001b[0m\n\u001b[0;32m    310\u001b[0m                 )\n\u001b[1;32m--> 311\u001b[1;33m             \u001b[1;32mreturn\u001b[0m \u001b[0mfunc\u001b[0m\u001b[1;33m(\u001b[0m\u001b[1;33m*\u001b[0m\u001b[0margs\u001b[0m\u001b[1;33m,\u001b[0m \u001b[1;33m**\u001b[0m\u001b[0mkwargs\u001b[0m\u001b[1;33m)\u001b[0m\u001b[1;33m\u001b[0m\u001b[1;33m\u001b[0m\u001b[0m\n\u001b[0m\u001b[0;32m    312\u001b[0m \u001b[1;33m\u001b[0m\u001b[0m\n\u001b[0;32m    313\u001b[0m         \u001b[1;32mreturn\u001b[0m \u001b[0mwrapper\u001b[0m\u001b[1;33m\u001b[0m\u001b[1;33m\u001b[0m\u001b[0m\n",
      "\u001b[1;32m~\\AppData\\Local\\Programs\\Python\\Python37\\lib\\site-packages\\pandas\\core\\frame.py\u001b[0m in \u001b[0;36msort_values\u001b[1;34m(self, by, axis, ascending, inplace, kind, na_position, ignore_index, key)\u001b[0m\n\u001b[0;32m   6257\u001b[0m \u001b[1;33m\u001b[0m\u001b[0m\n\u001b[0;32m   6258\u001b[0m             \u001b[0mby\u001b[0m \u001b[1;33m=\u001b[0m \u001b[0mby\u001b[0m\u001b[1;33m[\u001b[0m\u001b[1;36m0\u001b[0m\u001b[1;33m]\u001b[0m\u001b[1;33m\u001b[0m\u001b[1;33m\u001b[0m\u001b[0m\n\u001b[1;32m-> 6259\u001b[1;33m             \u001b[0mk\u001b[0m \u001b[1;33m=\u001b[0m \u001b[0mself\u001b[0m\u001b[1;33m.\u001b[0m\u001b[0m_get_label_or_level_values\u001b[0m\u001b[1;33m(\u001b[0m\u001b[0mby\u001b[0m\u001b[1;33m,\u001b[0m \u001b[0maxis\u001b[0m\u001b[1;33m=\u001b[0m\u001b[0maxis\u001b[0m\u001b[1;33m)\u001b[0m\u001b[1;33m\u001b[0m\u001b[1;33m\u001b[0m\u001b[0m\n\u001b[0m\u001b[0;32m   6260\u001b[0m \u001b[1;33m\u001b[0m\u001b[0m\n\u001b[0;32m   6261\u001b[0m             \u001b[1;31m# need to rewrap column in Series to apply key function\u001b[0m\u001b[1;33m\u001b[0m\u001b[1;33m\u001b[0m\u001b[1;33m\u001b[0m\u001b[0m\n",
      "\u001b[1;32m~\\AppData\\Local\\Programs\\Python\\Python37\\lib\\site-packages\\pandas\\core\\generic.py\u001b[0m in \u001b[0;36m_get_label_or_level_values\u001b[1;34m(self, key, axis)\u001b[0m\n\u001b[0;32m   1777\u001b[0m             \u001b[0mvalues\u001b[0m \u001b[1;33m=\u001b[0m \u001b[0mself\u001b[0m\u001b[1;33m.\u001b[0m\u001b[0maxes\u001b[0m\u001b[1;33m[\u001b[0m\u001b[0maxis\u001b[0m\u001b[1;33m]\u001b[0m\u001b[1;33m.\u001b[0m\u001b[0mget_level_values\u001b[0m\u001b[1;33m(\u001b[0m\u001b[0mkey\u001b[0m\u001b[1;33m)\u001b[0m\u001b[1;33m.\u001b[0m\u001b[0m_values\u001b[0m\u001b[1;33m\u001b[0m\u001b[1;33m\u001b[0m\u001b[0m\n\u001b[0;32m   1778\u001b[0m         \u001b[1;32melse\u001b[0m\u001b[1;33m:\u001b[0m\u001b[1;33m\u001b[0m\u001b[1;33m\u001b[0m\u001b[0m\n\u001b[1;32m-> 1779\u001b[1;33m             \u001b[1;32mraise\u001b[0m \u001b[0mKeyError\u001b[0m\u001b[1;33m(\u001b[0m\u001b[0mkey\u001b[0m\u001b[1;33m)\u001b[0m\u001b[1;33m\u001b[0m\u001b[1;33m\u001b[0m\u001b[0m\n\u001b[0m\u001b[0;32m   1780\u001b[0m \u001b[1;33m\u001b[0m\u001b[0m\n\u001b[0;32m   1781\u001b[0m         \u001b[1;31m# Check for duplicates\u001b[0m\u001b[1;33m\u001b[0m\u001b[1;33m\u001b[0m\u001b[1;33m\u001b[0m\u001b[0m\n",
      "\u001b[1;31mKeyError\u001b[0m: 0      19\n1       1\n2       1\n3      11\n4       1\n       ..\n918    22\n919    41\n920    23\n921    18\n922    20\nName: num, Length: 923, dtype: int64"
     ]
    }
   ],
   "source": [
    "ddsl.sort_values(ddsl.num)"
   ]
  },
  {
   "cell_type": "code",
   "execution_count": 64,
   "metadata": {},
   "outputs": [
    {
     "data": {
      "text/plain": [
       "[<matplotlib.lines.Line2D at 0x18c28302ef0>]"
      ]
     },
     "execution_count": 64,
     "metadata": {},
     "output_type": "execute_result"
    },
    {
     "data": {
      "image/png": "[encoded data removed]",
      "text/plain": [
       "<Figure size 432x288 with 1 Axes>"
      ]
     },
     "metadata": {
      "needs_background": "light"
     },
     "output_type": "display_data"
    }
   ],
   "source": [
    "plt.plot(ddsl.D[:20], ddsl.num[:20])"
   ]
  },
  {
   "cell_type": "code",
   "execution_count": null,
   "metadata": {},
   "outputs": [],
   "source": []
  }
 ],
 "metadata": {
  "interpreter": {
   "hash": "ac9eda3d294fc5f7807b988b9d27f1778de784f736fc504a3bbc1ed5f3cd1d06"
  },
  "kernelspec": {
   "display_name": "Python 3.7.3 64-bit",
   "language": "python",
   "name": "python3"
  },
  "language_info": {
   "codemirror_mode": {
    "name": "ipython",
    "version": 3
   },
   "file_extension": ".py",
   "mimetype": "text/x-python",
   "name": "python",
   "nbconvert_exporter": "python",
   "pygments_lexer": "ipython3",
   "version": "3.7.3"
  },
  "orig_nbformat": 4
 },
 "nbformat": 4,
 "nbformat_minor": 2
}
